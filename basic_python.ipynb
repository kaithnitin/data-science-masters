{
 "cells": [
  {
   "cell_type": "markdown",
   "id": "5aaf3f16-2989-4d2e-a7b4-0870169b0421",
   "metadata": {},
   "source": [
    "# practice session\n",
    "## part 1\n",
    "## basics of python\n",
    "## topics we will be covering\n",
    "## 1.learning how execute print command\n",
    "## 2.how to write no.\n",
    "## 3.how to break the line with escape sequence\n",
    "## 4.how to use mathematical functions"
   ]
  },
  {
   "cell_type": "code",
   "execution_count": 2,
   "id": "f75e5644-889d-45c3-962a-a9f834afc764",
   "metadata": {},
   "outputs": [
    {
     "name": "stdout",
     "output_type": "stream",
     "text": [
      "hello world\n"
     ]
    }
   ],
   "source": [
    "#how to print words\n",
    "print(\"hello world\")"
   ]
  },
  {
   "cell_type": "code",
   "execution_count": 5,
   "id": "45d76a64-6be7-4c36-ad40-f42cc8302d26",
   "metadata": {},
   "outputs": [
    {
     "name": "stdout",
     "output_type": "stream",
     "text": [
      "23\n"
     ]
    }
   ],
   "source": [
    "#how to print number\n",
    "print(23)"
   ]
  },
  {
   "cell_type": "code",
   "execution_count": null,
   "id": "71ec0f61-90fe-47ee-8e78-82efad96df29",
   "metadata": {},
   "outputs": [],
   "source": [
    "# note:if want to add text we always  have to coat it with \"\" or ''"
   ]
  },
  {
   "cell_type": "code",
   "execution_count": 9,
   "id": "9e126b0f-c73f-406d-b33a-60a57397920f",
   "metadata": {},
   "outputs": [
    {
     "name": "stdout",
     "output_type": "stream",
     "text": [
      "Ram is a good boy\n",
      "Sita is an intelligent girl\n"
     ]
    }
   ],
   "source": [
    "# how to break the line into next line in one print command\n",
    "print(\"Ram is a good boy\\nSita is an intelligent girl\")"
   ]
  },
  {
   "cell_type": "code",
   "execution_count": 10,
   "id": "830192f5-42da-40b2-ab89-ec8ca6ed492f",
   "metadata": {},
   "outputs": [
    {
     "name": "stdout",
     "output_type": "stream",
     "text": [
      "Ram has a 'car' which is black in \"color\" \n"
     ]
    }
   ],
   "source": [
    "# how  to highlight words in print command with \"\" or ''\n",
    "print(\"Ram has a \\'car\\' which is black in \\\"color\\\" \")"
   ]
  },
  {
   "cell_type": "code",
   "execution_count": 13,
   "id": "d93da6e2-28ff-4a28-acf7-1f132a8dba98",
   "metadata": {},
   "outputs": [
    {
     "name": "stdout",
     "output_type": "stream",
     "text": [
      "my age is 35\n",
      "i am 15 years younger than Ram\n",
      "i am gonig to nitin's home\n"
     ]
    }
   ],
   "source": [
    "# how to store values in variables\n",
    "a=35\n",
    "b=15\n",
    "c=\"nitin's\"\n",
    "print(\"my age is\",a)\n",
    "print(\"i am\",b,\"years younger than Ram\")\n",
    "print(\"i am gonig to\",c,\"home\")"
   ]
  },
  {
   "cell_type": "code",
   "execution_count": 18,
   "id": "a34e728d-b010-4255-bd72-ebd1d6f90c90",
   "metadata": {},
   "outputs": [
    {
     "name": "stdout",
     "output_type": "stream",
     "text": [
      "nitin is younger than rohan by 5 years\n",
      "nitin is younger than rohan by 5 years\n",
      "nitin is younger than rohan by 5 years\n",
      "nitin is younger than rohan by 5 years\n"
     ]
    }
   ],
   "source": [
    "# how to add all the variables with format function\n",
    "a=\"nitin\"\n",
    "b=5\n",
    "c=\"rohan\"\n",
    "print(\"1.\"a,\"is younger than\",c,\"by\",b,\"years\")\n",
    "#using f-string\n",
    "print(f\"\"2.\"{a} is younger than {c} by {b} years\")\n",
    "#using f-string(mydict)\n",
    "mydict={a:\"nitin\",b:5,c:\"rohan\"}\n",
    "print(f\"\"3.\"{a} is younger than {c} by {b} years\")\n",
    "# using .format\n",
    "# in this we have to keep check var in .format to b arranged in proper order as required\n",
    "print(\"\"4.\"{} is younger than {} by {} years\".format(a,c,b))\n",
    "# using .format with placeholder\n",
    "print(\"{name1} is younger than {name2} by {year} years\".format(name1=a,year=b,name2=c))\n",
    "\n"
   ]
  },
  {
   "cell_type": "code",
   "execution_count": 5,
   "id": "1af95d4e-67d5-466c-bd01-8bf0508022d1",
   "metadata": {},
   "outputs": [
    {
     "name": "stdout",
     "output_type": "stream",
     "text": [
      "the type value of a is <class 'str'>\n",
      "the type value of b is <class 'int'>\n",
      "the type value of c is <class 'bool'>\n",
      "the type value of d is <class 'NoneType'>\n",
      "the type value of e is <class 'complex'>\n"
     ]
    }
   ],
   "source": [
    "#type casting\n",
    "#how to find type of a variable\n",
    "a=\"nitin\"\n",
    "b=12\n",
    "c=True\n",
    "d=None\n",
    "e=3+2j\n",
    "print(\"the type value of a is\",type(a))\n",
    "print(\"the type value of b is\",type(b))\n",
    "print(\"the type value of c is\",type(c))\n",
    "print(\"the type value of d is\",type(d))\n",
    "print(\"the type value of e is\",type(e))"
   ]
  },
  {
   "cell_type": "markdown",
   "id": "6dc78db6-377c-4d30-96e9-664658724cd8",
   "metadata": {},
   "source": [
    "# How to take out an alphabet from a word"
   ]
  },
  {
   "cell_type": "code",
   "execution_count": 7,
   "id": "2dcd7261-e4f7-44bf-8596-436600833f42",
   "metadata": {},
   "outputs": [
    {
     "name": "stdout",
     "output_type": "stream",
     "text": [
      "p\n",
      "w\n",
      "s\n",
      "k\n",
      "i\n",
      "l\n",
      "l\n",
      "s\n",
      "pwski\n",
      "psil\n"
     ]
    }
   ],
   "source": [
    "# takeing out an alphabet from a word \n",
    "s=\"pwskills\"\n",
    "# indexing s[0]\n",
    "print(s[0])\n",
    "print(s[1])\n",
    "print(s[2])\n",
    "print(s[3])\n",
    "print(s[4])\n",
    "print(s[5])\n",
    "print(s[6])\n",
    "print(s[7])\n",
    "# how take out group is alphabets\n",
    "print(s[0:5])\n",
    "# what is slicing?\n",
    "# when we type a word like rohan python assin value to \n",
    "# each alphabet of the word from left to right and assigning \n",
    "# of values starts with \"0\"(r=0,o=1,h=3) and -ve values are also assined\n",
    "# from right to left and it's start with \"-1\" because \"0\"\n",
    "# is already assined and when we give command to the system \n",
    "# to take out group of alphabets if we want first four alphabet\n",
    "# we will write \"s[0:5] because it always produce value which is 5-1=4 and this\n",
    "# process is called slicing\n",
    "\n",
    "# how to take out selected group of words?\n",
    "print(s[0:8:2])"
   ]
  },
  {
   "cell_type": "code",
   "execution_count": 13,
   "id": "9572f143-d015-4c00-baaf-44ea3101c577",
   "metadata": {},
   "outputs": [
    {
     "name": "stdout",
     "output_type": "stream",
     "text": [
      "the length of s is 9\n",
      "pwrak\n"
     ]
    },
    {
     "data": {
      "text/plain": [
       "'kar'"
      ]
     },
     "execution_count": 13,
     "metadata": {},
     "output_type": "execute_result"
    }
   ],
   "source": [
    "s=\"powerbank\"\n",
    "print(\"the length of s is\",len(s))\n",
    "print(s[0:9:2])\n",
    "s[-1:-6:-2]\n"
   ]
  },
  {
   "cell_type": "code",
   "execution_count": 20,
   "id": "a3728c09-2a8e-40a8-9d2b-f8422ef23d33",
   "metadata": {},
   "outputs": [
    {
     "name": "stdout",
     "output_type": "stream",
     "text": [
      "4\n",
      "2\n"
     ]
    }
   ],
   "source": [
    "s=\"missipissi\"\n",
    "print(s.count('s'))\n",
    "# count the total no. of occurance in the string\n",
    "print(s.find('s'))\n",
    "# find the first occurance in the string acc. to 0,1,2,3"
   ]
  },
  {
   "cell_type": "markdown",
   "id": "7870be64-0aa2-422f-8837-ff1df62df27d",
   "metadata": {},
   "source": [
    "## list"
   ]
  },
  {
   "cell_type": "code",
   "execution_count": 1,
   "id": "53c16608-405e-4576-8039-152f3e8716c0",
   "metadata": {},
   "outputs": [
    {
     "ename": "IndentationError",
     "evalue": "unexpected indent (2569300265.py, line 10)",
     "output_type": "error",
     "traceback": [
      "\u001b[0;36m  Cell \u001b[0;32mIn[1], line 10\u001b[0;36m\u001b[0m\n\u001b[0;31m    list=[a,b,c,d,e,f,g]\u001b[0m\n\u001b[0m    ^\u001b[0m\n\u001b[0;31mIndentationError\u001b[0m\u001b[0;31m:\u001b[0m unexpected indent\n"
     ]
    }
   ],
   "source": [
    "# how to make a list?\n",
    "# list is set of all the data type arranged in together\n",
    "a=\"nitin\"\n",
    "b=23\n",
    "c=-2\n",
    "d=0.99\n",
    "e=True\n",
    "f=None\n",
    "g=3+4j\n",
    "list=[a,b,c,d,e,f,g]\n",
    "    print(\"the type value of\",type(list))"
   ]
  },
  {
   "cell_type": "code",
   "execution_count": null,
   "id": "c67bf0c0-6641-4c6e-bd3c-a9bbf63e6946",
   "metadata": {},
   "outputs": [],
   "source": [
    " a=input(\"enter your name: \")\n",
    "print(\"my name is: \",a)\n",
    "b=int(input(\"enter your age: \"))\n",
    "print(\"my age is: \",b)\n",
    "p=int(input(\"enter first number(x): \"))\n",
    "q=int(input(\"enter second number(y): \"))\n",
    "print(\"sum of p and q: \",p+q)\n",
    "\n",
    "    #     print(\"30% discount: \",.7*x)\n",
    "# y=int(input(\": \"))\n"
   ]
  },
  {
   "cell_type": "code",
   "execution_count": null,
   "id": "1d3c35ea-a61f-4efe-8f31-e0675b6ee0e6",
   "metadata": {},
   "outputs": [],
   "source": [
    "#only got 10 toffees\n",
    "total_toffee=10\n",
    "while total_toffee!=0:\n",
    "    print(total_toffee)\n",
    "    total_toffee=total_toffee-1\n",
    "else:\n",
    "    print(\"no more candy\")"
   ]
  },
  {
   "cell_type": "code",
   "execution_count": null,
   "id": "83d7c8ea-70dd-4534-a3db-eb3c42015741",
   "metadata": {},
   "outputs": [],
   "source": [
    "# cost price\n",
    "x=int(input(\"cost price: \"))\n",
    "if x>1000:\n",
    "    print(\"20% discount: \",.8*x)\n",
    "else:\n",
    "    print(\"30% discount: \",.7*x)"
   ]
  },
  {
   "cell_type": "code",
   "execution_count": null,
   "id": "d8387f22-1e64-4f74-9712-4f078baf899f",
   "metadata": {},
   "outputs": [],
   "source": [
    "# speed of train\n",
    "s=int(input(\"speed of the train: \"))\n",
    "print(\"\")\n",
    "d=int(input(\"distance covered by train: \"))\n",
    "print(\"time take by train: {}\".format(d/s))"
   ]
  },
  {
   "cell_type": "code",
   "execution_count": null,
   "id": "1952f2d4-f44b-43fe-ae98-6d29313a7293",
   "metadata": {},
   "outputs": [],
   "source": []
  },
  {
   "cell_type": "code",
   "execution_count": null,
   "id": "0362b298-70fe-4516-aab4-5b81ea3b9e12",
   "metadata": {},
   "outputs": [],
   "source": []
  },
  {
   "cell_type": "code",
   "execution_count": null,
   "id": "cb469b98-4966-4b97-8770-519873913c37",
   "metadata": {},
   "outputs": [],
   "source": []
  },
  {
   "cell_type": "code",
   "execution_count": 1,
   "id": "1ff839d4-e93b-4740-a3ad-2c46bb3162bf",
   "metadata": {},
   "outputs": [
    {
     "name": "stdin",
     "output_type": "stream",
     "text": [
      "what is your age? 24\n"
     ]
    }
   ],
   "source": [
    "age=37\n",
    "age=int(input(\"what is your age?\"))"
   ]
  },
  {
   "cell_type": "code",
   "execution_count": 2,
   "id": "335a490f-85ba-4bf3-918f-71ccdc8b56c1",
   "metadata": {},
   "outputs": [
    {
     "name": "stdin",
     "output_type": "stream",
     "text": [
      "what is your name? nitin kaith\n"
     ]
    }
   ],
   "source": [
    "name=input(\"what is your name?\")"
   ]
  },
  {
   "cell_type": "code",
   "execution_count": 3,
   "id": "b35afec1-c583-4e8c-8be2-d7dc0c9cd810",
   "metadata": {},
   "outputs": [
    {
     "data": {
      "text/plain": [
       "'nitin kaith'"
      ]
     },
     "execution_count": 3,
     "metadata": {},
     "output_type": "execute_result"
    }
   ],
   "source": [
    "name"
   ]
  },
  {
   "cell_type": "code",
   "execution_count": 4,
   "id": "b763f0b4-6e9b-4b65-b78c-c4cb8eebf4ad",
   "metadata": {},
   "outputs": [
    {
     "name": "stdout",
     "output_type": "stream",
     "text": [
      "my name is nitin, UID is 13bme1270, my contact no. is 7006227477, graduate from chandigarh university with CGPA6.18\n"
     ]
    }
   ],
   "source": [
    "name=\"nitin\" #a\n",
    "uid=\"13bme1270\" #b\n",
    "college=\"chandigarh university\" #c\n",
    "contact=7006227477 #d\n",
    "cgpa=6.18 #e\n",
    "#a,b,c,d,e are called placeholders\n",
    "print(\"my name is {a}, UID is {b}, my contact no. is {d}, graduate from {c} with CGPA {e}\".format(a=name,b=uid,c=college,d=contact,e=cgpa))"
   ]
  },
  {
   "cell_type": "code",
   "execution_count": 4,
   "id": "be47f7cb-e4ed-458e-852e-cd0250401964",
   "metadata": {},
   "outputs": [
    {
     "data": {
      "text/plain": [
       "34"
      ]
     },
     "execution_count": 4,
     "metadata": {},
     "output_type": "execute_result"
    }
   ],
   "source": [
    "age"
   ]
  },
  {
   "cell_type": "code",
   "execution_count": 5,
   "id": "da41e47a-a9ea-4f9e-8bda-ecd537ce8254",
   "metadata": {},
   "outputs": [
    {
     "name": "stdout",
     "output_type": "stream",
     "text": [
      "you getting there keep pushing hard\n"
     ]
    }
   ],
   "source": [
    "if age>=18:\n",
    "    print(\"you getting there keep pushing hard\")"
   ]
  },
  {
   "cell_type": "code",
   "execution_count": 6,
   "id": "1bd8a95f-09a4-4a43-9396-323a9afec428",
   "metadata": {},
   "outputs": [
    {
     "name": "stdout",
     "output_type": "stream",
     "text": [
      "my name is nitin, UID is 13bme1270, my contact no. is chandigarh university, graduate from 7006227477 with CGPA 6.18\n"
     ]
    }
   ],
   "source": [
    "print(\"my name is {}, UID is {}, my contact no. is {}, graduate from {} with CGPA {}\".format(name,uid,college,contact,cgpa))"
   ]
  },
  {
   "cell_type": "code",
   "execution_count": null,
   "id": "092dfff1-0645-45e2-a814-58a6bf14e330",
   "metadata": {},
   "outputs": [],
   "source": [
    "\n",
    "age=int(input(\"enter your age\"))"
   ]
  },
  {
   "cell_type": "markdown",
   "id": "a4618f3b-8e89-468a-aa4d-c25f28d497ea",
   "metadata": {},
   "source": [
    "## enter your name\n"
   ]
  },
  {
   "cell_type": "code",
   "execution_count": 7,
   "id": "b500951d-715d-4766-a902-0a74eb0d2f0a",
   "metadata": {},
   "outputs": [
    {
     "name": "stdin",
     "output_type": "stream",
     "text": [
      "enter yoyr name nitin\n"
     ]
    }
   ],
   "source": [
    "name=\"nitin\"\n",
    "name=input(\"enter your name\")"
   ]
  },
  {
   "cell_type": "code",
   "execution_count": null,
   "id": "0726373b-dcb7-45fc-99f1-449bc38e4c95",
   "metadata": {},
   "outputs": [],
   "source": [
    "# now we will learn how to enter a name?\n",
    "# name=\"nitin\"\n",
    "name=input(\"enter your name\")"
   ]
  },
  {
   "cell_type": "code",
   "execution_count": 15,
   "id": "fdc46978-69ff-432d-ad70-a245958238c8",
   "metadata": {},
   "outputs": [
    {
     "ename": "SyntaxError",
     "evalue": "incomplete input (1286240418.py, line 2)",
     "output_type": "error",
     "traceback": [
      "\u001b[0;36m  Cell \u001b[0;32mIn[15], line 2\u001b[0;36m\u001b[0m\n\u001b[0;31m    if age>=18 and age<=45:\u001b[0m\n\u001b[0m                           ^\u001b[0m\n\u001b[0;31mSyntaxError\u001b[0m\u001b[0;31m:\u001b[0m incomplete input\n"
     ]
    }
   ],
   "source": [
    "age=int(input(\"enter your name\"))\n",
    "if age>=18 and age<=45:\n"
   ]
  },
  {
   "cell_type": "code",
   "execution_count": 17,
   "id": "24146433-5750-4e76-a3a8-ff1d92b78d38",
   "metadata": {},
   "outputs": [
    {
     "name": "stdin",
     "output_type": "stream",
     "text": [
      "enter your age 56\n"
     ]
    }
   ],
   "source": [
    "age=int(input(\"enter your age\"))"
   ]
  },
  {
   "cell_type": "code",
   "execution_count": 6,
   "id": "be04bc4d-9034-4cec-bf4e-ba6bcc8926b3",
   "metadata": {},
   "outputs": [
    {
     "name": "stdout",
     "output_type": "stream",
     "text": [
      "1000\n",
      "900\n",
      "800\n",
      "700\n",
      "600\n",
      "500\n",
      "400\n",
      "300\n",
      "200\n",
      "100\n",
      "need to refill\n"
     ]
    }
   ],
   "source": [
    "#while loop\n",
    "total_money=1000\n",
    "while total_money!=0:\n",
    "    print(total_money)\n",
    "    total_money=total_money-100\n",
    "else:\n",
    "    print(\"need to refill\")\n"
   ]
  },
  {
   "cell_type": "code",
   "execution_count": 9,
   "id": "d6f40ae1-b755-4a2f-8b35-782c86ceb2cf",
   "metadata": {},
   "outputs": [
    {
     "name": "stdout",
     "output_type": "stream",
     "text": [
      "50\n",
      "51\n",
      "52\n",
      "53\n",
      "54\n",
      "55\n",
      "56\n",
      "57\n",
      "58\n",
      "59\n",
      "60\n",
      "time to retire\n"
     ]
    }
   ],
   "source": [
    "joining_age=50\n",
    "while joining_age<=60:\n",
    "    print(joining_age)\n",
    "    joining_age=joining_age+1\n",
    "else:\n",
    "    print(\"time to retire\")"
   ]
  },
  {
   "cell_type": "code",
   "execution_count": null,
   "id": "413f8efb-653c-4519-9f9c-bcad800c7f7b",
   "metadata": {},
   "outputs": [],
   "source": [
    "total_toffee=10\n",
    "while total_toffee<=10:\n",
    "    print(total_toffee)\n",
    "    total_toffee=total_toffee-1\n",
    "else:\n",
    "    "
   ]
  },
  {
   "cell_type": "code",
   "execution_count": null,
   "id": "0f61bf4b-7eb2-4466-b3f3-15e7fe72d704",
   "metadata": {},
   "outputs": [],
   "source": []
  },
  {
   "cell_type": "code",
   "execution_count": null,
   "id": "20f68a03-d572-4c35-9054-a0565f4b8199",
   "metadata": {},
   "outputs": [],
   "source": [
    "\n"
   ]
  },
  {
   "cell_type": "code",
   "execution_count": null,
   "id": "bd11a205-adbb-444d-9ecf-84eda1264c3d",
   "metadata": {},
   "outputs": [],
   "source": []
  }
 ],
 "metadata": {
  "kernelspec": {
   "display_name": "Python 3 (ipykernel)",
   "language": "python",
   "name": "python3"
  },
  "language_info": {
   "codemirror_mode": {
    "name": "ipython",
    "version": 3
   },
   "file_extension": ".py",
   "mimetype": "text/x-python",
   "name": "python",
   "nbconvert_exporter": "python",
   "pygments_lexer": "ipython3",
   "version": "3.10.8"
  }
 },
 "nbformat": 4,
 "nbformat_minor": 5
}
